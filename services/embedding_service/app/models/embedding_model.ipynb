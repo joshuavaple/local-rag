{
 "cells": [
  {
   "cell_type": "code",
   "execution_count": 1,
   "id": "1b587b0f",
   "metadata": {},
   "outputs": [
    {
     "name": "stderr",
     "output_type": "stream",
     "text": [
      "/home/joshuale/miniconda3/envs/local-rag/lib/python3.11/site-packages/tqdm/auto.py:21: TqdmWarning: IProgress not found. Please update jupyter and ipywidgets. See https://ipywidgets.readthedocs.io/en/stable/user_install.html\n",
      "  from .autonotebook import tqdm as notebook_tqdm\n"
     ]
    },
    {
     "name": "stdout",
     "output_type": "stream",
     "text": [
      "\u001b[2m2025-10-24 21:50:50\u001b[0m [\u001b[32m\u001b[1mdebug    \u001b[0m] \u001b[1mUsing device: cuda            \u001b[0m\n"
     ]
    }
   ],
   "source": [
    "import yaml\n",
    "import os\n",
    "from sentence_transformers import SentenceTransformer\n",
    "from pathlib import Path\n",
    "import torch\n",
    "import structlog\n",
    "\n",
    "logger = structlog.getLogger()\n",
    "device = (\n",
    "    torch.accelerator.current_accelerator().type\n",
    "    if torch.accelerator.is_available()\n",
    "    else \"cpu\"\n",
    ")\n",
    "logger.debug(f\"Using device: {device}\")"
   ]
  },
  {
   "cell_type": "code",
   "execution_count": 2,
   "id": "cc7e9499",
   "metadata": {},
   "outputs": [],
   "source": [
    "CONFIG_PATH = Path(\".\").resolve().parents[1] / \"config.yml\"\n",
    "CACHE_DIR = Path(\".\").resolve().parents[1] / \"model_cache\""
   ]
  },
  {
   "cell_type": "code",
   "execution_count": 5,
   "id": "f9d4e2b0",
   "metadata": {},
   "outputs": [
    {
     "name": "stdout",
     "output_type": "stream",
     "text": [
      "/home/joshuale/coding/github/local-rag/services/embedding_service/config.yml\n"
     ]
    }
   ],
   "source": [
    "print(CONFIG_PATH)"
   ]
  },
  {
   "cell_type": "code",
   "execution_count": 3,
   "id": "513b40d4",
   "metadata": {},
   "outputs": [],
   "source": [
    "with open(CONFIG_PATH, \"r\") as f:\n",
    "    cfg = yaml.safe_load(f)\n",
    "    f.close()\n",
    "\n",
    "model_name = cfg[\"model\"][\"name\"]\n",
    "# device = cfg[\"model\"][\"device\"]\n",
    "\n",
    "CACHE_DIR.mkdir(parents=False, exist_ok=True)\n",
    "local_model_dir = CACHE_DIR / model_name.replace(\"/\", \"_\")"
   ]
  },
  {
   "cell_type": "code",
   "execution_count": 4,
   "id": "020b373b",
   "metadata": {},
   "outputs": [
    {
     "name": "stdout",
     "output_type": "stream",
     "text": [
      "✅ Loading model from local cache: /home/joshuale/coding/github/local-rag/services/embedding_service/model_cache/sentence-transformers_all-MiniLM-L12-v2\n"
     ]
    }
   ],
   "source": [
    "if not local_model_dir.exists():\n",
    "    print(f\"🔽 Downloading model {model_name} to {local_model_dir}\")\n",
    "    model = SentenceTransformer(model_name, device=device, cache_folder=str(local_model_dir))\n",
    "    model.save(str(local_model_dir))\n",
    "else:\n",
    "    print(f\"✅ Loading model from local cache: {local_model_dir}\")\n",
    "    model = SentenceTransformer(str(local_model_dir), device=device)"
   ]
  },
  {
   "cell_type": "code",
   "execution_count": null,
   "id": "2d43c867",
   "metadata": {},
   "outputs": [],
   "source": [
    "def encode(texts):\n",
    "    if isinstance(texts, str):\n",
    "        texts = [texts]\n",
    "    embeddings = model.encode(\n",
    "        texts, normalize_embeddings=True, batch_size=16, show_progress_bar=False\n",
    "    )\n",
    "    return embeddings"
   ]
  },
  {
   "cell_type": "code",
   "execution_count": null,
   "id": "e10d7424",
   "metadata": {},
   "outputs": [],
   "source": [
    "texts = [\"I live in a city\", \"Cat loves dog\"]\n",
    "embeddings = encode(texts)\n",
    "embeddings.shape"
   ]
  },
  {
   "cell_type": "code",
   "execution_count": null,
   "id": "20f3df66",
   "metadata": {},
   "outputs": [],
   "source": [
    "type(embeddings)"
   ]
  },
  {
   "cell_type": "code",
   "execution_count": null,
   "id": "3afc6c0e",
   "metadata": {},
   "outputs": [],
   "source": [
    "# checking the class\n",
    "\n",
    "DEVICE = (\n",
    "    torch.accelerator.current_accelerator().type\n",
    "    if torch.accelerator.is_available()\n",
    "    else \"cpu\"\n",
    ")\n",
    "\n",
    "class EmbeddingModel:\n",
    "    \"\"\"Singleton wrapper for embedding model (with local caching).\"\"\"\n",
    "    \n",
    "    _instance = None\n",
    "\n",
    "    def __new__(cls):\n",
    "        if cls._instance is None:\n",
    "            with open(CONFIG_PATH, \"r\") as f:\n",
    "                cfg = yaml.safe_load(f)\n",
    "\n",
    "            model_name = cfg[\"model\"][\"name\"]\n",
    "\n",
    "            CACHE_DIR.mkdir(parents=True, exist_ok=True)\n",
    "            local_model_dir = CACHE_DIR / model_name.replace(\"/\", \"_\")\n",
    "\n",
    "            if not local_model_dir.exists():\n",
    "                logger.debug(f\"🔽 Downloading model {model_name} to {local_model_dir}\")\n",
    "                model = SentenceTransformer(model_name, device=DEVICE, cache_folder=str(local_model_dir))\n",
    "                model.save(str(local_model_dir))\n",
    "            else:\n",
    "                logger.debug(f\"✅ Loading model from local cache: {local_model_dir}\")\n",
    "                model = SentenceTransformer(str(local_model_dir), device=DEVICE)\n",
    "\n",
    "            cls._instance = super().__new__(cls)\n",
    "            cls._instance.model = model\n",
    "            cls._instance.model_name = model_name\n",
    "            cls._instance.device = DEVICE\n",
    "\n",
    "        return cls._instance\n",
    "\n",
    "    def encode(self, texts):\n",
    "        if isinstance(texts, str):\n",
    "            texts = [texts]\n",
    "        embeddings = self.model.encode(\n",
    "            texts, normalize_embeddings=True, batch_size=16, show_progress_bar=False\n",
    "        )\n",
    "        return embeddings.tolist()"
   ]
  },
  {
   "cell_type": "code",
   "execution_count": null,
   "id": "5a392bbf",
   "metadata": {},
   "outputs": [],
   "source": [
    "# try calling the class - used in routers/embed.py later\n",
    "from pydantic import BaseModel\n",
    "\n",
    "class EmbedResponse(BaseModel):\n",
    "    model: str\n",
    "    embeddings: list[list[float]]\n",
    "\n",
    "embedder = EmbeddingModel()\n",
    "vectors = embedder.encode(texts)\n",
    "EmbedResponse(model=embedder.model_name, embeddings=vectors)"
   ]
  }
 ],
 "metadata": {
  "kernelspec": {
   "display_name": "local-rag",
   "language": "python",
   "name": "python3"
  },
  "language_info": {
   "codemirror_mode": {
    "name": "ipython",
    "version": 3
   },
   "file_extension": ".py",
   "mimetype": "text/x-python",
   "name": "python",
   "nbconvert_exporter": "python",
   "pygments_lexer": "ipython3",
   "version": "3.11.14"
  }
 },
 "nbformat": 4,
 "nbformat_minor": 5
}
